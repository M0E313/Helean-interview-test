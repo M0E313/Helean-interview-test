{
 "cells": [
  {
   "cell_type": "code",
   "execution_count": 1,
   "id": "b128beab",
   "metadata": {},
   "outputs": [],
   "source": [
    "import numpy as np\n",
    "import pandas as pd"
   ]
  },
  {
   "cell_type": "code",
   "execution_count": 2,
   "id": "ac0399ff",
   "metadata": {},
   "outputs": [
    {
     "data": {
      "text/html": [
       "<div>\n",
       "<style scoped>\n",
       "    .dataframe tbody tr th:only-of-type {\n",
       "        vertical-align: middle;\n",
       "    }\n",
       "\n",
       "    .dataframe tbody tr th {\n",
       "        vertical-align: top;\n",
       "    }\n",
       "\n",
       "    .dataframe thead th {\n",
       "        text-align: right;\n",
       "    }\n",
       "</style>\n",
       "<table border=\"1\" class=\"dataframe\">\n",
       "  <thead>\n",
       "    <tr style=\"text-align: right;\">\n",
       "      <th></th>\n",
       "      <th>Item_id</th>\n",
       "      <th>Quantity</th>\n",
       "      <th>Price_ht</th>\n",
       "      <th>Price_ttc</th>\n",
       "      <th>Transaction_id</th>\n",
       "      <th>Date</th>\n",
       "    </tr>\n",
       "  </thead>\n",
       "  <tbody>\n",
       "    <tr>\n",
       "      <th>0</th>\n",
       "      <td>11</td>\n",
       "      <td>0.485</td>\n",
       "      <td>8.388626</td>\n",
       "      <td>8.85</td>\n",
       "      <td>339910</td>\n",
       "      <td>2022-06-30T18:02:30Z</td>\n",
       "    </tr>\n",
       "    <tr>\n",
       "      <th>1</th>\n",
       "      <td>65</td>\n",
       "      <td>0.445</td>\n",
       "      <td>7.364929</td>\n",
       "      <td>7.77</td>\n",
       "      <td>339910</td>\n",
       "      <td>2022-06-30T18:02:30Z</td>\n",
       "    </tr>\n",
       "  </tbody>\n",
       "</table>\n",
       "</div>"
      ],
      "text/plain": [
       "   Item_id  Quantity  Price_ht  Price_ttc  Transaction_id  \\\n",
       "0       11     0.485  8.388626       8.85          339910   \n",
       "1       65     0.445  7.364929       7.77          339910   \n",
       "\n",
       "                   Date  \n",
       "0  2022-06-30T18:02:30Z  \n",
       "1  2022-06-30T18:02:30Z  "
      ]
     },
     "execution_count": 2,
     "metadata": {},
     "output_type": "execute_result"
    }
   ],
   "source": [
    "df = pd.read_csv(\"helean1.csv\") #loading the dataset\n",
    "df = df.iloc[: , :-1]\n",
    "df"
   ]
  },
  {
   "cell_type": "code",
   "execution_count": 3,
   "id": "15754ff3",
   "metadata": {},
   "outputs": [
    {
     "data": {
      "text/plain": [
       "Item_id             int64\n",
       "Quantity          float64\n",
       "Price_ht          float64\n",
       "Price_ttc         float64\n",
       "Transaction_id      int64\n",
       "Date               object\n",
       "dtype: object"
      ]
     },
     "execution_count": 3,
     "metadata": {},
     "output_type": "execute_result"
    }
   ],
   "source": [
    "df.dtypes"
   ]
  },
  {
   "cell_type": "code",
   "execution_count": 4,
   "id": "e3aac9bc",
   "metadata": {},
   "outputs": [
    {
     "data": {
      "text/plain": [
       "0   2022-06-30 18:02:30+00:00\n",
       "1   2022-06-30 18:02:30+00:00\n",
       "Name: Date, dtype: datetime64[ns, UTC]"
      ]
     },
     "execution_count": 4,
     "metadata": {},
     "output_type": "execute_result"
    }
   ],
   "source": [
    "df['Date'] = pd.to_datetime(df['Date'],format='%Y-%m-%d %H:%M:%S') #transforming the date column to python date\n",
    "df['Date']"
   ]
  },
  {
   "cell_type": "code",
   "execution_count": 5,
   "id": "58094cb0",
   "metadata": {},
   "outputs": [
    {
     "data": {
      "text/plain": [
       "Item_id                         int64\n",
       "Quantity                      float64\n",
       "Price_ht                      float64\n",
       "Price_ttc                     float64\n",
       "Transaction_id                  int64\n",
       "Date              datetime64[ns, UTC]\n",
       "dtype: object"
      ]
     },
     "execution_count": 5,
     "metadata": {},
     "output_type": "execute_result"
    }
   ],
   "source": [
    "df.dtypes"
   ]
  },
  {
   "cell_type": "code",
   "execution_count": null,
   "id": "9f310998",
   "metadata": {},
   "outputs": [],
   "source": []
  },
  {
   "cell_type": "code",
   "execution_count": 6,
   "id": "2c5feb26",
   "metadata": {},
   "outputs": [
    {
     "data": {
      "text/html": [
       "<div>\n",
       "<style scoped>\n",
       "    .dataframe tbody tr th:only-of-type {\n",
       "        vertical-align: middle;\n",
       "    }\n",
       "\n",
       "    .dataframe tbody tr th {\n",
       "        vertical-align: top;\n",
       "    }\n",
       "\n",
       "    .dataframe thead th {\n",
       "        text-align: right;\n",
       "    }\n",
       "</style>\n",
       "<table border=\"1\" class=\"dataframe\">\n",
       "  <thead>\n",
       "    <tr style=\"text-align: right;\">\n",
       "      <th></th>\n",
       "      <th>Item_id</th>\n",
       "      <th>Quantity</th>\n",
       "      <th>Price_ht</th>\n",
       "      <th>Price_ttc</th>\n",
       "      <th>Transaction_id</th>\n",
       "      <th>Date</th>\n",
       "      <th>Sales</th>\n",
       "    </tr>\n",
       "  </thead>\n",
       "  <tbody>\n",
       "    <tr>\n",
       "      <th>0</th>\n",
       "      <td>11</td>\n",
       "      <td>0.485</td>\n",
       "      <td>8.388626</td>\n",
       "      <td>8.85</td>\n",
       "      <td>339910</td>\n",
       "      <td>2022-06-30 18:02:30+00:00</td>\n",
       "      <td>4.29225</td>\n",
       "    </tr>\n",
       "    <tr>\n",
       "      <th>1</th>\n",
       "      <td>65</td>\n",
       "      <td>0.445</td>\n",
       "      <td>7.364929</td>\n",
       "      <td>7.77</td>\n",
       "      <td>339910</td>\n",
       "      <td>2022-06-30 18:02:30+00:00</td>\n",
       "      <td>3.45765</td>\n",
       "    </tr>\n",
       "  </tbody>\n",
       "</table>\n",
       "</div>"
      ],
      "text/plain": [
       "   Item_id  Quantity  Price_ht  Price_ttc  Transaction_id  \\\n",
       "0       11     0.485  8.388626       8.85          339910   \n",
       "1       65     0.445  7.364929       7.77          339910   \n",
       "\n",
       "                       Date    Sales  \n",
       "0 2022-06-30 18:02:30+00:00  4.29225  \n",
       "1 2022-06-30 18:02:30+00:00  3.45765  "
      ]
     },
     "execution_count": 6,
     "metadata": {},
     "output_type": "execute_result"
    }
   ],
   "source": [
    "df['Sales'] = df['Quantity'] * df['Price_ttc'] #adding Sales column by multiplying Quantity and Price with taxes included\n",
    "df"
   ]
  },
  {
   "cell_type": "code",
   "execution_count": 7,
   "id": "9ce37678",
   "metadata": {},
   "outputs": [
    {
     "name": "stderr",
     "output_type": "stream",
     "text": [
      "C:\\Users\\user\\anaconda3\\lib\\site-packages\\pandas\\core\\arrays\\datetimes.py:1101: UserWarning: Converting to PeriodArray/Index representation will drop timezone information.\n",
      "  warnings.warn(\n"
     ]
    },
    {
     "data": {
      "text/html": [
       "<div>\n",
       "<style scoped>\n",
       "    .dataframe tbody tr th:only-of-type {\n",
       "        vertical-align: middle;\n",
       "    }\n",
       "\n",
       "    .dataframe tbody tr th {\n",
       "        vertical-align: top;\n",
       "    }\n",
       "\n",
       "    .dataframe thead th {\n",
       "        text-align: right;\n",
       "    }\n",
       "</style>\n",
       "<table border=\"1\" class=\"dataframe\">\n",
       "  <thead>\n",
       "    <tr style=\"text-align: right;\">\n",
       "      <th></th>\n",
       "      <th>Item_id</th>\n",
       "      <th>Quantity</th>\n",
       "      <th>Price_ht</th>\n",
       "      <th>Price_ttc</th>\n",
       "      <th>Transaction_id</th>\n",
       "      <th>Date</th>\n",
       "      <th>Sales</th>\n",
       "      <th>yDate</th>\n",
       "    </tr>\n",
       "  </thead>\n",
       "  <tbody>\n",
       "    <tr>\n",
       "      <th>0</th>\n",
       "      <td>11</td>\n",
       "      <td>0.485</td>\n",
       "      <td>8.388626</td>\n",
       "      <td>8.85</td>\n",
       "      <td>339910</td>\n",
       "      <td>2022-06-30 18:02:30+00:00</td>\n",
       "      <td>4.29225</td>\n",
       "      <td>2022</td>\n",
       "    </tr>\n",
       "    <tr>\n",
       "      <th>1</th>\n",
       "      <td>65</td>\n",
       "      <td>0.445</td>\n",
       "      <td>7.364929</td>\n",
       "      <td>7.77</td>\n",
       "      <td>339910</td>\n",
       "      <td>2022-06-30 18:02:30+00:00</td>\n",
       "      <td>3.45765</td>\n",
       "      <td>2022</td>\n",
       "    </tr>\n",
       "  </tbody>\n",
       "</table>\n",
       "</div>"
      ],
      "text/plain": [
       "   Item_id  Quantity  Price_ht  Price_ttc  Transaction_id  \\\n",
       "0       11     0.485  8.388626       8.85          339910   \n",
       "1       65     0.445  7.364929       7.77          339910   \n",
       "\n",
       "                       Date    Sales yDate  \n",
       "0 2022-06-30 18:02:30+00:00  4.29225  2022  \n",
       "1 2022-06-30 18:02:30+00:00  3.45765  2022  "
      ]
     },
     "execution_count": 7,
     "metadata": {},
     "output_type": "execute_result"
    }
   ],
   "source": [
    "df['yDate'] = df['Date'].dt.to_period('Y') #creating year column\n",
    "df"
   ]
  },
  {
   "cell_type": "code",
   "execution_count": 8,
   "id": "566b022a",
   "metadata": {},
   "outputs": [
    {
     "name": "stderr",
     "output_type": "stream",
     "text": [
      "C:\\Users\\user\\anaconda3\\lib\\site-packages\\pandas\\core\\arrays\\datetimes.py:1101: UserWarning: Converting to PeriodArray/Index representation will drop timezone information.\n",
      "  warnings.warn(\n"
     ]
    },
    {
     "data": {
      "text/html": [
       "<div>\n",
       "<style scoped>\n",
       "    .dataframe tbody tr th:only-of-type {\n",
       "        vertical-align: middle;\n",
       "    }\n",
       "\n",
       "    .dataframe tbody tr th {\n",
       "        vertical-align: top;\n",
       "    }\n",
       "\n",
       "    .dataframe thead th {\n",
       "        text-align: right;\n",
       "    }\n",
       "</style>\n",
       "<table border=\"1\" class=\"dataframe\">\n",
       "  <thead>\n",
       "    <tr style=\"text-align: right;\">\n",
       "      <th></th>\n",
       "      <th>Item_id</th>\n",
       "      <th>Quantity</th>\n",
       "      <th>Price_ht</th>\n",
       "      <th>Price_ttc</th>\n",
       "      <th>Transaction_id</th>\n",
       "      <th>Date</th>\n",
       "      <th>Sales</th>\n",
       "      <th>yDate</th>\n",
       "      <th>mDate</th>\n",
       "    </tr>\n",
       "  </thead>\n",
       "  <tbody>\n",
       "    <tr>\n",
       "      <th>0</th>\n",
       "      <td>11</td>\n",
       "      <td>0.485</td>\n",
       "      <td>8.388626</td>\n",
       "      <td>8.85</td>\n",
       "      <td>339910</td>\n",
       "      <td>2022-06-30 18:02:30+00:00</td>\n",
       "      <td>4.29225</td>\n",
       "      <td>2022</td>\n",
       "      <td>2022-06</td>\n",
       "    </tr>\n",
       "    <tr>\n",
       "      <th>1</th>\n",
       "      <td>65</td>\n",
       "      <td>0.445</td>\n",
       "      <td>7.364929</td>\n",
       "      <td>7.77</td>\n",
       "      <td>339910</td>\n",
       "      <td>2022-06-30 18:02:30+00:00</td>\n",
       "      <td>3.45765</td>\n",
       "      <td>2022</td>\n",
       "      <td>2022-06</td>\n",
       "    </tr>\n",
       "  </tbody>\n",
       "</table>\n",
       "</div>"
      ],
      "text/plain": [
       "   Item_id  Quantity  Price_ht  Price_ttc  Transaction_id  \\\n",
       "0       11     0.485  8.388626       8.85          339910   \n",
       "1       65     0.445  7.364929       7.77          339910   \n",
       "\n",
       "                       Date    Sales yDate    mDate  \n",
       "0 2022-06-30 18:02:30+00:00  4.29225  2022  2022-06  \n",
       "1 2022-06-30 18:02:30+00:00  3.45765  2022  2022-06  "
      ]
     },
     "execution_count": 8,
     "metadata": {},
     "output_type": "execute_result"
    }
   ],
   "source": [
    "df['mDate'] = df['Date'].dt.to_period('M') #creating month column\n",
    "df"
   ]
  },
  {
   "cell_type": "code",
   "execution_count": 9,
   "id": "0d36b3cd",
   "metadata": {},
   "outputs": [
    {
     "name": "stderr",
     "output_type": "stream",
     "text": [
      "C:\\Users\\user\\anaconda3\\lib\\site-packages\\pandas\\core\\arrays\\datetimes.py:1101: UserWarning: Converting to PeriodArray/Index representation will drop timezone information.\n",
      "  warnings.warn(\n"
     ]
    },
    {
     "data": {
      "text/html": [
       "<div>\n",
       "<style scoped>\n",
       "    .dataframe tbody tr th:only-of-type {\n",
       "        vertical-align: middle;\n",
       "    }\n",
       "\n",
       "    .dataframe tbody tr th {\n",
       "        vertical-align: top;\n",
       "    }\n",
       "\n",
       "    .dataframe thead th {\n",
       "        text-align: right;\n",
       "    }\n",
       "</style>\n",
       "<table border=\"1\" class=\"dataframe\">\n",
       "  <thead>\n",
       "    <tr style=\"text-align: right;\">\n",
       "      <th></th>\n",
       "      <th>Item_id</th>\n",
       "      <th>Quantity</th>\n",
       "      <th>Price_ht</th>\n",
       "      <th>Price_ttc</th>\n",
       "      <th>Transaction_id</th>\n",
       "      <th>Date</th>\n",
       "      <th>Sales</th>\n",
       "      <th>yDate</th>\n",
       "      <th>mDate</th>\n",
       "      <th>dDate</th>\n",
       "    </tr>\n",
       "  </thead>\n",
       "  <tbody>\n",
       "    <tr>\n",
       "      <th>0</th>\n",
       "      <td>11</td>\n",
       "      <td>0.485</td>\n",
       "      <td>8.388626</td>\n",
       "      <td>8.85</td>\n",
       "      <td>339910</td>\n",
       "      <td>2022-06-30 18:02:30+00:00</td>\n",
       "      <td>4.29225</td>\n",
       "      <td>2022</td>\n",
       "      <td>2022-06</td>\n",
       "      <td>2022-06-30</td>\n",
       "    </tr>\n",
       "    <tr>\n",
       "      <th>1</th>\n",
       "      <td>65</td>\n",
       "      <td>0.445</td>\n",
       "      <td>7.364929</td>\n",
       "      <td>7.77</td>\n",
       "      <td>339910</td>\n",
       "      <td>2022-06-30 18:02:30+00:00</td>\n",
       "      <td>3.45765</td>\n",
       "      <td>2022</td>\n",
       "      <td>2022-06</td>\n",
       "      <td>2022-06-30</td>\n",
       "    </tr>\n",
       "  </tbody>\n",
       "</table>\n",
       "</div>"
      ],
      "text/plain": [
       "   Item_id  Quantity  Price_ht  Price_ttc  Transaction_id  \\\n",
       "0       11     0.485  8.388626       8.85          339910   \n",
       "1       65     0.445  7.364929       7.77          339910   \n",
       "\n",
       "                       Date    Sales yDate    mDate       dDate  \n",
       "0 2022-06-30 18:02:30+00:00  4.29225  2022  2022-06  2022-06-30  \n",
       "1 2022-06-30 18:02:30+00:00  3.45765  2022  2022-06  2022-06-30  "
      ]
     },
     "execution_count": 9,
     "metadata": {},
     "output_type": "execute_result"
    }
   ],
   "source": [
    "df['dDate'] = df['Date'].dt.to_period('D') #creating day column\n",
    "df"
   ]
  },
  {
   "cell_type": "code",
   "execution_count": 10,
   "id": "1994d96a",
   "metadata": {},
   "outputs": [
    {
     "data": {
      "text/plain": [
       "Item_id                         int64\n",
       "Quantity                      float64\n",
       "Price_ht                      float64\n",
       "Price_ttc                     float64\n",
       "Transaction_id                  int64\n",
       "Date              datetime64[ns, UTC]\n",
       "Sales                         float64\n",
       "yDate                   period[A-DEC]\n",
       "mDate                       period[M]\n",
       "dDate                       period[D]\n",
       "dtype: object"
      ]
     },
     "execution_count": 10,
     "metadata": {},
     "output_type": "execute_result"
    }
   ],
   "source": [
    "df.dtypes"
   ]
  },
  {
   "cell_type": "code",
   "execution_count": 15,
   "id": "f146e50e",
   "metadata": {},
   "outputs": [
    {
     "data": {
      "text/plain": [
       "mDate\n",
       "2022-06    7.7499\n",
       "Freq: M, Name: Sales, dtype: float64"
      ]
     },
     "execution_count": 15,
     "metadata": {},
     "output_type": "execute_result"
    }
   ],
   "source": [
    "month = df.groupby(['mDate'])['Sales'].sum() #aggregating sum of sales grouping by month\n",
    "month"
   ]
  },
  {
   "cell_type": "code",
   "execution_count": 23,
   "id": "260361bf",
   "metadata": {},
   "outputs": [
    {
     "data": {
      "text/plain": [
       "yDate\n",
       "2022    3.87495\n",
       "Freq: A-DEC, Name: Sales, dtype: float64"
      ]
     },
     "execution_count": 23,
     "metadata": {},
     "output_type": "execute_result"
    }
   ],
   "source": [
    "year = df.groupby(['yDate'])['Sales'].mean() #average of yearly sales\n",
    "year"
   ]
  },
  {
   "cell_type": "code",
   "execution_count": null,
   "id": "0069dce5",
   "metadata": {},
   "outputs": [],
   "source": []
  },
  {
   "cell_type": "code",
   "execution_count": null,
   "id": "888ea9b4",
   "metadata": {},
   "outputs": [],
   "source": []
  },
  {
   "cell_type": "code",
   "execution_count": null,
   "id": "39b4a85d",
   "metadata": {},
   "outputs": [],
   "source": []
  },
  {
   "cell_type": "markdown",
   "id": "bccb1f43",
   "metadata": {},
   "source": [
    "### 1. Develop a function which take a Pandas DataFrame like the one shown bellow and returns statistics of the sales: Yearly, quarterly, monthly and weekly growth of the turnover."
   ]
  },
  {
   "cell_type": "code",
   "execution_count": 26,
   "id": "03cb2925",
   "metadata": {},
   "outputs": [],
   "source": [
    "def StatisticsSummary(data):\n",
    "    data['Date'] = pd.to_datetime(data['Date'],format='%Y-%m-%d %H:%M:%S') #transforming the date column to python date\n",
    "    \n",
    "    data['Sales'] = data['Quantity'] * data['Price_ttc'] #adding Sales column by multiplying Quantity and Price with taxes included\n",
    "    \n",
    "    data['yDate'] = data['Date'].dt.to_period('Y') #creating year column\n",
    "    data['mDate'] = data['Date'].dt.to_period('M') #creating month column\n",
    "    data['dDate'] = data['Date'].dt.to_period('D') #creating day column\n",
    "    \n",
    "    yearly = data.groupby(['yDate'])['Sales'].sum()  #calculate the sum of all sales for specific year\n",
    "    quarter = yearly/4                                 #yearly sales devided by 4 represents quarter sales\n",
    "    monthly = data.groupby(['mDate'])['Sales'].sum() #calculate the sum of all sales for specific month\n",
    "    weekly = monthly/4.35                              #monthly sales devided by 4.35 represents weekly sales \n",
    "    \n",
    "    return yearly, quarter, monthly, weekly"
   ]
  },
  {
   "cell_type": "markdown",
   "id": "0babcbb3",
   "metadata": {},
   "source": [
    "Testing Output:"
   ]
  },
  {
   "cell_type": "code",
   "execution_count": 27,
   "id": "3bf6c42b",
   "metadata": {},
   "outputs": [
    {
     "data": {
      "text/plain": [
       "(yDate\n",
       " 2022    7.7499\n",
       " Freq: A-DEC, Name: Sales, dtype: float64,\n",
       " yDate\n",
       " 2022    1.937475\n",
       " Freq: A-DEC, Name: Sales, dtype: float64,\n",
       " mDate\n",
       " 2022-06    7.7499\n",
       " Freq: M, Name: Sales, dtype: float64,\n",
       " mDate\n",
       " 2022-06    1.781586\n",
       " Freq: M, Name: Sales, dtype: float64)"
      ]
     },
     "execution_count": 27,
     "metadata": {},
     "output_type": "execute_result"
    }
   ],
   "source": [
    "data = pd.read_csv(\"helean1.csv\") #loading the dataset\n",
    "data = df.iloc[: , :-1]\n",
    "StatisticsSummary(data)"
   ]
  },
  {
   "cell_type": "markdown",
   "id": "2011de7b",
   "metadata": {},
   "source": [
    "### 2. Develop a function that returns average sales by month and day of the week. Use the same DataFrame. Explain the assumptions with comments."
   ]
  },
  {
   "cell_type": "code",
   "execution_count": 28,
   "id": "cf5d7197",
   "metadata": {},
   "outputs": [],
   "source": [
    "def Average(data):\n",
    "    data['Date'] = pd.to_datetime(data['Date'],format='%Y-%m-%d %H:%M:%S') #transforming the date column to python date\n",
    "    \n",
    "    data['Sales'] = data['Quantity'] * data['Price_ttc'] #adding Sales column by multiplying Quantity and Price with taxes included\n",
    "    \n",
    "    data['yDate'] = data['Date'].dt.to_period('Y') #creating year column\n",
    "    data['mDate'] = data['Date'].dt.to_period('M') #creating month column\n",
    "    data['dDate'] = data['Date'].dt.to_period('D') #creating day column\n",
    "    \n",
    "    monthly_avg = data.groupby(['mDate'])['Sales'].mean() #calculate the avg of all sales for specific month\n",
    "    daily_avg = data.groupby(['dDate'])['Sales'].mean()   #monthly sales devided by 4.35 represents weekly sales \n",
    "    \n",
    "    return monthly_avg, daily_avg"
   ]
  },
  {
   "cell_type": "markdown",
   "id": "c772964b",
   "metadata": {},
   "source": [
    "Testing Output:"
   ]
  },
  {
   "cell_type": "code",
   "execution_count": 29,
   "id": "9fbe3e42",
   "metadata": {},
   "outputs": [
    {
     "data": {
      "text/plain": [
       "(mDate\n",
       " 2022-06    3.87495\n",
       " Freq: M, Name: Sales, dtype: float64,\n",
       " dDate\n",
       " 2022-06-30    3.87495\n",
       " Freq: D, Name: Sales, dtype: float64)"
      ]
     },
     "execution_count": 29,
     "metadata": {},
     "output_type": "execute_result"
    }
   ],
   "source": [
    "data = pd.read_csv(\"helean1.csv\") #loading the dataset\n",
    "data = df.iloc[: , :-1]\n",
    "Average(data)"
   ]
  }
 ],
 "metadata": {
  "kernelspec": {
   "display_name": "Python 3",
   "language": "python",
   "name": "python3"
  },
  "language_info": {
   "codemirror_mode": {
    "name": "ipython",
    "version": 3
   },
   "file_extension": ".py",
   "mimetype": "text/x-python",
   "name": "python",
   "nbconvert_exporter": "python",
   "pygments_lexer": "ipython3",
   "version": "3.8.8"
  }
 },
 "nbformat": 4,
 "nbformat_minor": 5
}
